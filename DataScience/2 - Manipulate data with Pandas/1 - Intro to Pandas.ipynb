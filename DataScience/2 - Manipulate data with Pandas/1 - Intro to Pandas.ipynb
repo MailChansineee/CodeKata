{
 "cells": [
  {
   "cell_type": "markdown",
   "id": "dcfd389c",
   "metadata": {},
   "source": [
    "# 1. Intro to Pandas"
   ]
  },
  {
   "cell_type": "code",
   "execution_count": 1,
   "id": "7df48ad7",
   "metadata": {},
   "outputs": [],
   "source": [
    "import pandas as pd\n",
    "import numpy as np"
   ]
  },
  {
   "cell_type": "markdown",
   "id": "cc7cd12a",
   "metadata": {},
   "source": [
    "## Workshop1: สร้างข้อมูล series จาก list เเละ tuple"
   ]
  },
  {
   "cell_type": "code",
   "execution_count": 2,
   "id": "f1ae61dd",
   "metadata": {},
   "outputs": [
    {
     "data": {
      "text/plain": [
       "(15, 12.5, 'Ksb', 22, 'Jim')"
      ]
     },
     "execution_count": 2,
     "metadata": {},
     "output_type": "execute_result"
    }
   ],
   "source": [
    "datas = (15, 12.5, 'Ksb', 22, \"Jim\")\n",
    "datas"
   ]
  },
  {
   "cell_type": "code",
   "execution_count": 3,
   "id": "edb36833",
   "metadata": {},
   "outputs": [
    {
     "data": {
      "text/plain": [
       "tuple"
      ]
     },
     "execution_count": 3,
     "metadata": {},
     "output_type": "execute_result"
    }
   ],
   "source": [
    "type(datas)"
   ]
  },
  {
   "cell_type": "code",
   "execution_count": 4,
   "id": "2e1b7428",
   "metadata": {},
   "outputs": [
    {
     "data": {
      "text/plain": [
       "0      15\n",
       "1    12.5\n",
       "2     Ksb\n",
       "3      22\n",
       "4     Jim\n",
       "dtype: object"
      ]
     },
     "execution_count": 4,
     "metadata": {},
     "output_type": "execute_result"
    }
   ],
   "source": [
    "ps = pd.Series(datas)\n",
    "ps"
   ]
  },
  {
   "cell_type": "markdown",
   "id": "1b2fcd47",
   "metadata": {},
   "source": [
    "## Workshop2: สร้างข้อมูล series จาก numpy"
   ]
  },
  {
   "cell_type": "code",
   "execution_count": 5,
   "id": "8d08e728",
   "metadata": {},
   "outputs": [],
   "source": [
    "datas = (15, 12.5, 'Ksb', 22, \"Jim\") # สร้าง list"
   ]
  },
  {
   "cell_type": "code",
   "execution_count": 6,
   "id": "84edcf41",
   "metadata": {},
   "outputs": [],
   "source": [
    "ndata = np.array(datas) # นำ list ไปสร้างเป็น numpy array"
   ]
  },
  {
   "cell_type": "code",
   "execution_count": 7,
   "id": "ea716908",
   "metadata": {},
   "outputs": [
    {
     "data": {
      "text/plain": [
       "0      15\n",
       "1    12.5\n",
       "2     Ksb\n",
       "3      22\n",
       "4     Jim\n",
       "dtype: object"
      ]
     },
     "execution_count": 7,
     "metadata": {},
     "output_type": "execute_result"
    }
   ],
   "source": [
    "ps = pd.Series(ndata)\n",
    "ps"
   ]
  },
  {
   "cell_type": "markdown",
   "id": "7daeba7d",
   "metadata": {},
   "source": [
    "## Workshop3: สร้างข้อมูล series เเบบกำหนด index"
   ]
  },
  {
   "cell_type": "markdown",
   "id": "e330c7da",
   "metadata": {},
   "source": [
    "สร้างด้วย pandas"
   ]
  },
  {
   "cell_type": "code",
   "execution_count": 8,
   "id": "482cc159",
   "metadata": {},
   "outputs": [],
   "source": [
    "datas = [15, 12.5, 18, 22, 17]"
   ]
  },
  {
   "cell_type": "code",
   "execution_count": 9,
   "id": "a124efd8",
   "metadata": {},
   "outputs": [],
   "source": [
    "idx = ['ksb', 'mail', 'tim', 'jan', 'เเมว']"
   ]
  },
  {
   "cell_type": "code",
   "execution_count": 10,
   "id": "7a22b65d",
   "metadata": {},
   "outputs": [
    {
     "data": {
      "text/plain": [
       "ksb     15.0\n",
       "mail    12.5\n",
       "tim     18.0\n",
       "jan     22.0\n",
       "เเมว    17.0\n",
       "dtype: float64"
      ]
     },
     "execution_count": 10,
     "metadata": {},
     "output_type": "execute_result"
    }
   ],
   "source": [
    "ps = pd.Series(datas, index=idx) # สร้าง series เเบบกำหนด index เอง\n",
    "ps"
   ]
  },
  {
   "cell_type": "markdown",
   "id": "13ad419f",
   "metadata": {},
   "source": [
    "หรือสร้างด้วย numpy"
   ]
  },
  {
   "cell_type": "code",
   "execution_count": 11,
   "id": "3912a8d6",
   "metadata": {},
   "outputs": [],
   "source": [
    "import numpy as np"
   ]
  },
  {
   "cell_type": "code",
   "execution_count": 12,
   "id": "d29d81ba",
   "metadata": {},
   "outputs": [
    {
     "data": {
      "text/plain": [
       "ksb     15.0\n",
       "mail    12.5\n",
       "tim     18.0\n",
       "jan     22.0\n",
       "เเมว    17.0\n",
       "dtype: float64"
      ]
     },
     "execution_count": 12,
     "metadata": {},
     "output_type": "execute_result"
    }
   ],
   "source": [
    "datas = [15, 12.5, 18, 22, 17]\n",
    "idx = ['ksb', 'mail', 'tim', 'jan', 'เเมว']\n",
    "\n",
    "pss = pd.Series(np.array(datas), index=idx)\n",
    "pss"
   ]
  },
  {
   "cell_type": "markdown",
   "id": "29f7cd90",
   "metadata": {},
   "source": [
    "## Workshop4: สร้างข้อมูล series จาก dictionary"
   ]
  },
  {
   "cell_type": "code",
   "execution_count": 13,
   "id": "1c448b7c",
   "metadata": {},
   "outputs": [
    {
     "data": {
      "text/plain": [
       "ksb     15.2\n",
       "mail     2.0\n",
       "time    18.0\n",
       "jan     22.0\n",
       "dtype: float64"
      ]
     },
     "execution_count": 13,
     "metadata": {},
     "output_type": "execute_result"
    }
   ],
   "source": [
    "datas = {'ksb': 15.2, 'mail': 2, 'time':18, 'jan':22}\n",
    "ps = pd.Series(datas)\n",
    "ps"
   ]
  },
  {
   "cell_type": "markdown",
   "id": "4dd9d611",
   "metadata": {},
   "source": [
    "## Workshop5: การเข้าถึงข้อมูล"
   ]
  },
  {
   "cell_type": "code",
   "execution_count": 14,
   "id": "126db7a4",
   "metadata": {},
   "outputs": [
    {
     "data": {
      "text/plain": [
       "ksb     15.2\n",
       "mail     2.0\n",
       "time    18.0\n",
       "jan     22.0\n",
       "dtype: float64"
      ]
     },
     "execution_count": 14,
     "metadata": {},
     "output_type": "execute_result"
    }
   ],
   "source": [
    "ps"
   ]
  },
  {
   "cell_type": "code",
   "execution_count": 15,
   "id": "9824c1a1",
   "metadata": {},
   "outputs": [
    {
     "data": {
      "text/plain": [
       "2.0"
      ]
     },
     "execution_count": 15,
     "metadata": {},
     "output_type": "execute_result"
    }
   ],
   "source": [
    "ps['mail']"
   ]
  },
  {
   "cell_type": "code",
   "execution_count": 16,
   "id": "bda4fdc1",
   "metadata": {},
   "outputs": [
    {
     "name": "stderr",
     "output_type": "stream",
     "text": [
      "C:\\Users\\mchan\\AppData\\Local\\Temp\\ipykernel_3876\\1694939130.py:1: FutureWarning: Series.__getitem__ treating keys as positions is deprecated. In a future version, integer keys will always be treated as labels (consistent with DataFrame behavior). To access a value by position, use `ser.iloc[pos]`\n",
      "  ps[0]\n"
     ]
    },
    {
     "data": {
      "text/plain": [
       "15.2"
      ]
     },
     "execution_count": 16,
     "metadata": {},
     "output_type": "execute_result"
    }
   ],
   "source": [
    "ps[0]"
   ]
  },
  {
   "cell_type": "code",
   "execution_count": 17,
   "id": "b6b833b1",
   "metadata": {},
   "outputs": [
    {
     "name": "stderr",
     "output_type": "stream",
     "text": [
      "C:\\Users\\mchan\\AppData\\Local\\Temp\\ipykernel_3876\\1432103231.py:1: FutureWarning: Series.__getitem__ treating keys as positions is deprecated. In a future version, integer keys will always be treated as labels (consistent with DataFrame behavior). To access a value by position, use `ser.iloc[pos]`\n",
      "  ps[-1]\n"
     ]
    },
    {
     "data": {
      "text/plain": [
       "22.0"
      ]
     },
     "execution_count": 17,
     "metadata": {},
     "output_type": "execute_result"
    }
   ],
   "source": [
    "ps[-1]"
   ]
  },
  {
   "cell_type": "markdown",
   "id": "c6d19342",
   "metadata": {},
   "source": [
    "## Workshop6: การเข้าถึงช่วงข้อมูล (slicing)"
   ]
  },
  {
   "cell_type": "code",
   "execution_count": 18,
   "id": "aa5837d4",
   "metadata": {},
   "outputs": [
    {
     "data": {
      "text/plain": [
       "ksb     15.2\n",
       "mail     2.0\n",
       "time    18.0\n",
       "jan     22.0\n",
       "dtype: float64"
      ]
     },
     "execution_count": 18,
     "metadata": {},
     "output_type": "execute_result"
    }
   ],
   "source": [
    "ps"
   ]
  },
  {
   "cell_type": "code",
   "execution_count": 19,
   "id": "8fd3418e",
   "metadata": {},
   "outputs": [
    {
     "data": {
      "text/plain": [
       "ksb     15.2\n",
       "mail     2.0\n",
       "time    18.0\n",
       "jan     22.0\n",
       "dtype: float64"
      ]
     },
     "execution_count": 19,
     "metadata": {},
     "output_type": "execute_result"
    }
   ],
   "source": [
    "ps[:]"
   ]
  },
  {
   "cell_type": "code",
   "execution_count": 20,
   "id": "a6661ad9",
   "metadata": {},
   "outputs": [
    {
     "data": {
      "text/plain": [
       "time    18.0\n",
       "jan     22.0\n",
       "dtype: float64"
      ]
     },
     "execution_count": 20,
     "metadata": {},
     "output_type": "execute_result"
    }
   ],
   "source": [
    "ps[2:]"
   ]
  },
  {
   "cell_type": "code",
   "execution_count": 21,
   "id": "e54a0a8b",
   "metadata": {},
   "outputs": [
    {
     "data": {
      "text/plain": [
       "ksb     15.2\n",
       "mail     2.0\n",
       "dtype: float64"
      ]
     },
     "execution_count": 21,
     "metadata": {},
     "output_type": "execute_result"
    }
   ],
   "source": [
    "ps[:2] # index0 -> index2-1"
   ]
  },
  {
   "cell_type": "code",
   "execution_count": 22,
   "id": "184c32ec",
   "metadata": {},
   "outputs": [
    {
     "data": {
      "text/plain": [
       "mail     2.0\n",
       "time    18.0\n",
       "dtype: float64"
      ]
     },
     "execution_count": 22,
     "metadata": {},
     "output_type": "execute_result"
    }
   ],
   "source": [
    "ps[1:3] # index1 -> index2"
   ]
  },
  {
   "cell_type": "code",
   "execution_count": 23,
   "id": "2d120419",
   "metadata": {},
   "outputs": [
    {
     "data": {
      "text/plain": [
       "4"
      ]
     },
     "execution_count": 23,
     "metadata": {},
     "output_type": "execute_result"
    }
   ],
   "source": [
    "len(ps)"
   ]
  },
  {
   "cell_type": "code",
   "execution_count": 24,
   "id": "a67ceb0d",
   "metadata": {},
   "outputs": [
    {
     "data": {
      "text/plain": [
       "time    18.0\n",
       "jan     22.0\n",
       "dtype: float64"
      ]
     },
     "execution_count": 24,
     "metadata": {},
     "output_type": "execute_result"
    }
   ],
   "source": [
    "ps[2:len(ps)] # index2 -> index4-1"
   ]
  }
 ],
 "metadata": {
  "kernelspec": {
   "display_name": "Python 3 (ipykernel)",
   "language": "python",
   "name": "python3"
  },
  "language_info": {
   "codemirror_mode": {
    "name": "ipython",
    "version": 3
   },
   "file_extension": ".py",
   "mimetype": "text/x-python",
   "name": "python",
   "nbconvert_exporter": "python",
   "pygments_lexer": "ipython3",
   "version": "3.10.4"
  }
 },
 "nbformat": 4,
 "nbformat_minor": 5
}
