{
 "cells": [
  {
   "cell_type": "markdown",
   "id": "d24c7311",
   "metadata": {},
   "source": [
    "# Python for Data Science"
   ]
  },
  {
   "cell_type": "markdown",
   "id": "887d9937",
   "metadata": {},
   "source": [
    "## 1. ชนิดข้อมูล"
   ]
  },
  {
   "cell_type": "markdown",
   "id": "82186e36",
   "metadata": {},
   "source": [
    "ชนิดข้อมูลพื้นฐานใน Python ประกอบด้วย\n",
    "- integer => จำนวนเต็ม\n",
    "- float => จำนวนทศนิยม\n",
    "- string => ข้อความ เช่น 'mail', \"2.5\"\n",
    "- containers => ข้อมูลชุด ได้เเก่ List, Dictionary, Tuple ซึ่งเป็นข้อมูลชุดที่มีหลายข้อมูลในตัวเดียวกัน คล้าย array ของภาษาอื่น\n",
    "- boolean => True (T), False (F)"
   ]
  },
  {
   "cell_type": "markdown",
   "id": "833e66f9",
   "metadata": {},
   "source": [
    "## 2. เงื่อนไขเเละการเปรียบเทียบ"
   ]
  },
  {
   "cell_type": "code",
   "execution_count": 1,
   "id": "c4ecd266",
   "metadata": {},
   "outputs": [],
   "source": [
    "a = 5\n",
    "b = 3\n",
    "c = 8"
   ]
  },
  {
   "cell_type": "code",
   "execution_count": 2,
   "id": "826f4d4e",
   "metadata": {},
   "outputs": [
    {
     "data": {
      "text/plain": [
       "True"
      ]
     },
     "execution_count": 2,
     "metadata": {},
     "output_type": "execute_result"
    }
   ],
   "source": [
    "a > b"
   ]
  },
  {
   "cell_type": "code",
   "execution_count": 3,
   "id": "8faa3532",
   "metadata": {},
   "outputs": [
    {
     "data": {
      "text/plain": [
       "False"
      ]
     },
     "execution_count": 3,
     "metadata": {},
     "output_type": "execute_result"
    }
   ],
   "source": [
    "a > c"
   ]
  },
  {
   "cell_type": "code",
   "execution_count": 4,
   "id": "5f05d892",
   "metadata": {},
   "outputs": [
    {
     "data": {
      "text/plain": [
       "False"
      ]
     },
     "execution_count": 4,
     "metadata": {},
     "output_type": "execute_result"
    }
   ],
   "source": [
    "a > b and a > c"
   ]
  },
  {
   "cell_type": "code",
   "execution_count": 5,
   "id": "53eb42bc",
   "metadata": {},
   "outputs": [
    {
     "data": {
      "text/plain": [
       "True"
      ]
     },
     "execution_count": 5,
     "metadata": {},
     "output_type": "execute_result"
    }
   ],
   "source": [
    "a > b or a > c"
   ]
  },
  {
   "cell_type": "code",
   "execution_count": 6,
   "id": "6294b56a",
   "metadata": {},
   "outputs": [
    {
     "data": {
      "text/plain": [
       "True"
      ]
     },
     "execution_count": 6,
     "metadata": {},
     "output_type": "execute_result"
    }
   ],
   "source": [
    "(a > b) or (a > c) # ใช้วงเล็บได้"
   ]
  },
  {
   "cell_type": "markdown",
   "id": "ed7caad0",
   "metadata": {},
   "source": [
    "### if else"
   ]
  },
  {
   "cell_type": "markdown",
   "id": "b6d290f3",
   "metadata": {},
   "source": [
    "#### ex1:"
   ]
  },
  {
   "cell_type": "code",
   "execution_count": 7,
   "id": "fe4d7066",
   "metadata": {},
   "outputs": [
    {
     "name": "stdout",
     "output_type": "stream",
     "text": [
      "Discount 5%\n",
      "done\n"
     ]
    }
   ],
   "source": [
    "price = 110\n",
    "\n",
    "if price >= 100:\n",
    "    print('Discount 5%')\n",
    "print('done')"
   ]
  },
  {
   "cell_type": "code",
   "execution_count": 8,
   "id": "b3ce7799",
   "metadata": {},
   "outputs": [
    {
     "name": "stdout",
     "output_type": "stream",
     "text": [
      "done\n"
     ]
    }
   ],
   "source": [
    "price = 80\n",
    "\n",
    "if price >= 100:\n",
    "    print('Discount 5%')\n",
    "print('done')"
   ]
  },
  {
   "cell_type": "markdown",
   "id": "01831ad7",
   "metadata": {},
   "source": [
    "#### ex2:"
   ]
  },
  {
   "cell_type": "code",
   "execution_count": 9,
   "id": "3a66080b",
   "metadata": {},
   "outputs": [
    {
     "name": "stdout",
     "output_type": "stream",
     "text": [
      "Discount 2%\n",
      "Bye\n"
     ]
    }
   ],
   "source": [
    "price = 90\n",
    "\n",
    "if price >= 100:\n",
    "    print('Discount 5%')\n",
    "else:\n",
    "    print('Discount 2%')\n",
    "print('Bye')"
   ]
  },
  {
   "cell_type": "markdown",
   "id": "8c7bbb4d",
   "metadata": {},
   "source": [
    "#### ex3:"
   ]
  },
  {
   "cell_type": "code",
   "execution_count": 10,
   "id": "0d04ed97",
   "metadata": {},
   "outputs": [
    {
     "name": "stdout",
     "output_type": "stream",
     "text": [
      "Small Fan\n"
     ]
    }
   ],
   "source": [
    "temp = 32\n",
    "\n",
    "if temp < 30:\n",
    "    print(\"Fan off\")\n",
    "    \n",
    "elif temp >= 30 and temp < 40:\n",
    "    print(\"Small Fan\")\n",
    "\n",
    "else:\n",
    "    print(\"Turn on a Big Fan\")"
   ]
  },
  {
   "cell_type": "markdown",
   "id": "2d11e28b",
   "metadata": {},
   "source": [
    "## 3. การวนรอบ"
   ]
  },
  {
   "cell_type": "markdown",
   "id": "199bf238",
   "metadata": {},
   "source": [
    "### 3.1 for\n",
    "ใช้สำหรับการวนรอบทำงาน โดยกำหนดจำนวนรอบ"
   ]
  },
  {
   "cell_type": "markdown",
   "id": "9dd6c588",
   "metadata": {},
   "source": [
    "#### ex1:"
   ]
  },
  {
   "cell_type": "code",
   "execution_count": 11,
   "id": "bbe003d6",
   "metadata": {},
   "outputs": [
    {
     "name": "stdout",
     "output_type": "stream",
     "text": [
      "test for\n",
      "0\n",
      "test for\n",
      "1\n",
      "test for\n",
      "2\n",
      "done\n"
     ]
    }
   ],
   "source": [
    "for count in range (3):\n",
    "    print(\"test for\")\n",
    "    print(count)\n",
    "print(\"done\")"
   ]
  },
  {
   "cell_type": "markdown",
   "id": "ba4f1738",
   "metadata": {},
   "source": [
    "#### ex2:"
   ]
  },
  {
   "cell_type": "code",
   "execution_count": 12,
   "id": "4e3eaaa2",
   "metadata": {},
   "outputs": [
    {
     "name": "stdout",
     "output_type": "stream",
     "text": [
      "4\n",
      "5\n",
      "end of program ja\n"
     ]
    }
   ],
   "source": [
    "for v in range (4, 6): # เริ่มต้นที่ 4 เเละค่าสุดท้ายคือก่อน 6\n",
    "    print(v)\n",
    "print(\"end of program ja\")"
   ]
  },
  {
   "cell_type": "markdown",
   "id": "9292df53",
   "metadata": {},
   "source": [
    "### 3.2 while\n",
    "ทำการวนรอบโดยตรวจสอบเงื่อนไข ถ้าผลการตรวจสอบได้ค่า True ก็จะวนรอบต่อไป"
   ]
  },
  {
   "cell_type": "markdown",
   "id": "9ec34c3b",
   "metadata": {},
   "source": [
    "#### ex1:"
   ]
  },
  {
   "cell_type": "code",
   "execution_count": 13,
   "id": "d417a931",
   "metadata": {},
   "outputs": [
    {
     "name": "stdout",
     "output_type": "stream",
     "text": [
      "Hello ja!\n",
      "Hello ja!\n",
      "Hello ja!\n"
     ]
    }
   ],
   "source": [
    "count = 0\n",
    "while count < 3:\n",
    "    print(\"Hello ja!\")\n",
    "    count = count + 1"
   ]
  },
  {
   "cell_type": "markdown",
   "id": "c97ceacd",
   "metadata": {},
   "source": [
    "#### ex2:\n",
    "บางโปรเเกรมอาจต้องการทำงานเเบบไม่รู้จบ ก็ให้ระบุเงื่อนไขเป็น True เช่น"
   ]
  },
  {
   "cell_type": "code",
   "execution_count": 15,
   "id": "48071487",
   "metadata": {},
   "outputs": [
    {
     "data": {
      "text/plain": [
       "'while True:\\n    print(\"Halo\")\\n    \\nprint(\"end of program ja\")\\n\\n## จะทำงานไปเรื่อย ๆ ไม่รู้จบ จะให้หยุดก็กด stop'"
      ]
     },
     "execution_count": 15,
     "metadata": {},
     "output_type": "execute_result"
    }
   ],
   "source": [
    "\"\"\"while True:\n",
    "    print(\"Halo\")\n",
    "    \n",
    "print(\"end of program ja\")\n",
    "\n",
    "## จะทำงานไปเรื่อย ๆ ไม่รู้จบ จะให้หยุดก็กด stop\"\"\""
   ]
  },
  {
   "cell_type": "markdown",
   "id": "840e4878",
   "metadata": {},
   "source": [
    "## 4. ฟังก์ชัน"
   ]
  },
  {
   "cell_type": "markdown",
   "id": "4575e36f",
   "metadata": {},
   "source": [
    "#### ex1:"
   ]
  },
  {
   "cell_type": "code",
   "execution_count": 16,
   "id": "4ac23f1e",
   "metadata": {},
   "outputs": [],
   "source": [
    "def area(length):\n",
    "    area = length * length\n",
    "    return area"
   ]
  },
  {
   "cell_type": "code",
   "execution_count": 17,
   "id": "28be44c1",
   "metadata": {},
   "outputs": [
    {
     "name": "stdout",
     "output_type": "stream",
     "text": [
      "Area = 16\n",
      "Area = 16\n"
     ]
    }
   ],
   "source": [
    "# main program\n",
    "b = area(4)\n",
    "\n",
    "print('Area = %d' % (b))\n",
    "print('Area =', b)"
   ]
  },
  {
   "cell_type": "markdown",
   "id": "2d661fd8",
   "metadata": {},
   "source": [
    "#### ex2:"
   ]
  },
  {
   "cell_type": "code",
   "execution_count": 18,
   "id": "b5844269",
   "metadata": {},
   "outputs": [
    {
     "name": "stdout",
     "output_type": "stream",
     "text": [
      "Area = 16\n",
      "Area = 16\n"
     ]
    }
   ],
   "source": [
    "def area(length):\n",
    "    area = length * length\n",
    "    return area\n",
    "\n",
    "# main program\n",
    "if __name__ == '__main__':\n",
    "    b = area(4)\n",
    "    print('Area = %d' % (b))\n",
    "    print('Area =', b)"
   ]
  },
  {
   "cell_type": "markdown",
   "id": "9ee0df64",
   "metadata": {},
   "source": [
    "## 5. โปรเเกรมย่อย Lambda"
   ]
  },
  {
   "cell_type": "markdown",
   "id": "39f3812e",
   "metadata": {},
   "source": [
    "- Lambda เป็นการสร้างหรือประกาศใช้งานฟังก์ชัน เหมาะสำหรับการคำนวณประมวลผลที่ไม่ซับซ้อนเเละต้องการคืนค่ากลับมา \n",
    "- คือเน้นการคำนวณประมวลผลเเล้วคืนค่ากลับมาให้ตัวเเปร โดยทั่วไปมักใช้กับการคำนวณเเล้วกำหนดค่าให้กับตัวเเปร "
   ]
  },
  {
   "cell_type": "code",
   "execution_count": 19,
   "id": "12f4880c",
   "metadata": {},
   "outputs": [
    {
     "name": "stdout",
     "output_type": "stream",
     "text": [
      "8\n",
      "14\n"
     ]
    }
   ],
   "source": [
    "cal = lambda x: x*2\n",
    "\n",
    "a = cal(4)\n",
    "print(a)\n",
    "\n",
    "b = cal(7)\n",
    "print(b)"
   ]
  }
 ],
 "metadata": {
  "kernelspec": {
   "display_name": "Python 3 (ipykernel)",
   "language": "python",
   "name": "python3"
  },
  "language_info": {
   "codemirror_mode": {
    "name": "ipython",
    "version": 3
   },
   "file_extension": ".py",
   "mimetype": "text/x-python",
   "name": "python",
   "nbconvert_exporter": "python",
   "pygments_lexer": "ipython3",
   "version": "3.10.4"
  }
 },
 "nbformat": 4,
 "nbformat_minor": 5
}
