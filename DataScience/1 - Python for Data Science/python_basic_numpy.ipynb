{
 "cells": [
  {
   "cell_type": "markdown",
   "id": "cd02ca8e",
   "metadata": {},
   "source": [
    "# Numpy"
   ]
  },
  {
   "cell_type": "code",
   "execution_count": 1,
   "id": "fb6fb31e",
   "metadata": {},
   "outputs": [],
   "source": [
    "import numpy as np"
   ]
  },
  {
   "cell_type": "markdown",
   "id": "3d3f4960",
   "metadata": {},
   "source": [
    "#### หาค่าเฉลี่ย"
   ]
  },
  {
   "cell_type": "code",
   "execution_count": 2,
   "id": "b875442a",
   "metadata": {},
   "outputs": [
    {
     "data": {
      "text/plain": [
       "5.5"
      ]
     },
     "execution_count": 2,
     "metadata": {},
     "output_type": "execute_result"
    }
   ],
   "source": [
    "data = [2, 1, 3, 4, 5, 6, 3, 20] # เก็บข้อมูลเป็น list\n",
    "np.mean(data)"
   ]
  },
  {
   "cell_type": "code",
   "execution_count": 3,
   "id": "ec9567b8",
   "metadata": {},
   "outputs": [
    {
     "data": {
      "text/plain": [
       "5.5"
      ]
     },
     "execution_count": 3,
     "metadata": {},
     "output_type": "execute_result"
    }
   ],
   "source": [
    "np.mean([2, 1, 3, 4, 5, 6, 3, 20])"
   ]
  },
  {
   "cell_type": "markdown",
   "id": "7ec45621",
   "metadata": {},
   "source": [
    "#### หาค่าเบี่ยงเบนมาตรฐาน (standard deviation)"
   ]
  },
  {
   "cell_type": "code",
   "execution_count": 4,
   "id": "40eb2ea4",
   "metadata": {},
   "outputs": [
    {
     "data": {
      "text/plain": [
       "5.678908345800274"
      ]
     },
     "execution_count": 4,
     "metadata": {},
     "output_type": "execute_result"
    }
   ],
   "source": [
    "np.std(data)"
   ]
  },
  {
   "cell_type": "markdown",
   "id": "ee92dc77",
   "metadata": {},
   "source": [
    "#### หาสูงสุด ต่ำสุด"
   ]
  },
  {
   "cell_type": "code",
   "execution_count": 5,
   "id": "7ea2be36",
   "metadata": {},
   "outputs": [
    {
     "data": {
      "text/plain": [
       "20"
      ]
     },
     "execution_count": 5,
     "metadata": {},
     "output_type": "execute_result"
    }
   ],
   "source": [
    "np.max(data)"
   ]
  },
  {
   "cell_type": "code",
   "execution_count": 6,
   "id": "d8a095eb",
   "metadata": {},
   "outputs": [
    {
     "data": {
      "text/plain": [
       "1"
      ]
     },
     "execution_count": 6,
     "metadata": {},
     "output_type": "execute_result"
    }
   ],
   "source": [
    "np.min(data)"
   ]
  },
  {
   "cell_type": "markdown",
   "id": "c387244d",
   "metadata": {},
   "source": [
    "หากมีข้อมูลชนิด list เเล้วต้องการนำไปประมวลผลด้วย numpy เรามักเปลี่ยนข้อมูล list ให้เป็น numpy ดังนี้"
   ]
  },
  {
   "cell_type": "code",
   "execution_count": 7,
   "id": "9df292ed",
   "metadata": {},
   "outputs": [
    {
     "data": {
      "text/plain": [
       "numpy.ndarray"
      ]
     },
     "execution_count": 7,
     "metadata": {},
     "output_type": "execute_result"
    }
   ],
   "source": [
    "npa = np.array([data])\n",
    "type(npa)"
   ]
  },
  {
   "cell_type": "markdown",
   "id": "43fe6211",
   "metadata": {},
   "source": [
    "ข้อมูล 2มิติ => กำหนดให้เป็น list ก่อนเเล้วค่อยเปลี่ยนเป็น numpy array"
   ]
  },
  {
   "cell_type": "code",
   "execution_count": 8,
   "id": "475db62c",
   "metadata": {},
   "outputs": [
    {
     "data": {
      "text/plain": [
       "[[2, 3, 4], [8, 3, 5], [1, 3, 9]]"
      ]
     },
     "execution_count": 8,
     "metadata": {},
     "output_type": "execute_result"
    }
   ],
   "source": [
    "X = [[2, 3, 4],\n",
    "     [8, 3, 5],\n",
    "     [1, 3, 9]]\n",
    "X "
   ]
  },
  {
   "cell_type": "code",
   "execution_count": 9,
   "id": "b87e6062",
   "metadata": {},
   "outputs": [
    {
     "data": {
      "text/plain": [
       "list"
      ]
     },
     "execution_count": 9,
     "metadata": {},
     "output_type": "execute_result"
    }
   ],
   "source": [
    "type(X)"
   ]
  },
  {
   "cell_type": "code",
   "execution_count": 10,
   "id": "00b52d01",
   "metadata": {},
   "outputs": [
    {
     "data": {
      "text/plain": [
       "array([[2, 3, 4],\n",
       "       [8, 3, 5],\n",
       "       [1, 3, 9]])"
      ]
     },
     "execution_count": 10,
     "metadata": {},
     "output_type": "execute_result"
    }
   ],
   "source": [
    "npx = np.array(X)\n",
    "npx"
   ]
  },
  {
   "cell_type": "code",
   "execution_count": 11,
   "id": "1e4211ee",
   "metadata": {},
   "outputs": [
    {
     "data": {
      "text/plain": [
       "numpy.ndarray"
      ]
     },
     "execution_count": 11,
     "metadata": {},
     "output_type": "execute_result"
    }
   ],
   "source": [
    "type(npx)"
   ]
  },
  {
   "cell_type": "code",
   "execution_count": 12,
   "id": "fc5e8d8b",
   "metadata": {},
   "outputs": [
    {
     "data": {
      "text/plain": [
       "(3, 3)"
      ]
     },
     "execution_count": 12,
     "metadata": {},
     "output_type": "execute_result"
    }
   ],
   "source": [
    "npx.shape"
   ]
  },
  {
   "cell_type": "markdown",
   "id": "3393d344",
   "metadata": {},
   "source": [
    "## การอ่านข้อมูล\n",
    "numpy_data[row_index, column_index]"
   ]
  },
  {
   "cell_type": "code",
   "execution_count": 13,
   "id": "c1e748d8",
   "metadata": {},
   "outputs": [
    {
     "data": {
      "text/plain": [
       "array([[2, 3, 4],\n",
       "       [8, 3, 5],\n",
       "       [1, 3, 9]])"
      ]
     },
     "execution_count": 13,
     "metadata": {},
     "output_type": "execute_result"
    }
   ],
   "source": [
    "npx"
   ]
  },
  {
   "cell_type": "code",
   "execution_count": 14,
   "id": "6ed55b47",
   "metadata": {},
   "outputs": [
    {
     "data": {
      "text/plain": [
       "4"
      ]
     },
     "execution_count": 14,
     "metadata": {},
     "output_type": "execute_result"
    }
   ],
   "source": [
    "npx[0, 2]"
   ]
  },
  {
   "cell_type": "code",
   "execution_count": 15,
   "id": "dc6f44a3",
   "metadata": {},
   "outputs": [
    {
     "data": {
      "text/plain": [
       "5"
      ]
     },
     "execution_count": 15,
     "metadata": {},
     "output_type": "execute_result"
    }
   ],
   "source": [
    "npx[1, 2]"
   ]
  },
  {
   "cell_type": "markdown",
   "id": "2fe3eefb",
   "metadata": {},
   "source": [
    "อ่านข้อมูลเป็นช่วง"
   ]
  },
  {
   "cell_type": "code",
   "execution_count": 16,
   "id": "18c7cec6",
   "metadata": {},
   "outputs": [
    {
     "data": {
      "text/plain": [
       "array([[2, 3],\n",
       "       [8, 3],\n",
       "       [1, 3]])"
      ]
     },
     "execution_count": 16,
     "metadata": {},
     "output_type": "execute_result"
    }
   ],
   "source": [
    "X = npx[:, :-1]\n",
    "X"
   ]
  },
  {
   "cell_type": "code",
   "execution_count": 17,
   "id": "8dee27ee",
   "metadata": {},
   "outputs": [
    {
     "data": {
      "text/plain": [
       "array([[4],\n",
       "       [5],\n",
       "       [9]])"
      ]
     },
     "execution_count": 17,
     "metadata": {},
     "output_type": "execute_result"
    }
   ],
   "source": [
    "# เเยกคอลัมน์สุดท้ายไปเป็นค่า label (y) ==> ในงาน machine learning\n",
    "y = npx[:, -1:]\n",
    "y"
   ]
  },
  {
   "cell_type": "code",
   "execution_count": 18,
   "id": "c4010af7",
   "metadata": {},
   "outputs": [
    {
     "data": {
      "text/plain": [
       "array([[2, 3, 4]])"
      ]
     },
     "execution_count": 18,
     "metadata": {},
     "output_type": "execute_result"
    }
   ],
   "source": [
    "npx[:1, :] # เเถวเเรกทุกคอลัมน์"
   ]
  },
  {
   "cell_type": "code",
   "execution_count": 19,
   "id": "7924b76c",
   "metadata": {},
   "outputs": [
    {
     "data": {
      "text/plain": [
       "array([[1, 3, 9]])"
      ]
     },
     "execution_count": 19,
     "metadata": {},
     "output_type": "execute_result"
    }
   ],
   "source": [
    "npx[2:3, :]"
   ]
  },
  {
   "cell_type": "code",
   "execution_count": 20,
   "id": "2ff2b0ef",
   "metadata": {},
   "outputs": [
    {
     "data": {
      "text/plain": [
       "array([[1, 3, 9]])"
      ]
     },
     "execution_count": 20,
     "metadata": {},
     "output_type": "execute_result"
    }
   ],
   "source": [
    "npx[-1:, :] # เเถวสุดท้าย"
   ]
  },
  {
   "cell_type": "markdown",
   "id": "160df46d",
   "metadata": {},
   "source": [
    "#### ใช้เงื่อนไขในการตรวจสอบทุกค่าในข้อมูล"
   ]
  },
  {
   "cell_type": "code",
   "execution_count": 21,
   "id": "b686339f",
   "metadata": {},
   "outputs": [
    {
     "data": {
      "text/plain": [
       "array([[False, False, False],\n",
       "       [ True, False, False],\n",
       "       [False, False,  True]])"
      ]
     },
     "execution_count": 21,
     "metadata": {},
     "output_type": "execute_result"
    }
   ],
   "source": [
    "npx > 5"
   ]
  },
  {
   "cell_type": "code",
   "execution_count": 22,
   "id": "f0a939d1",
   "metadata": {},
   "outputs": [
    {
     "data": {
      "text/plain": [
       "array([8, 9])"
      ]
     },
     "execution_count": 22,
     "metadata": {},
     "output_type": "execute_result"
    }
   ],
   "source": [
    "# ต้องการข้อมูลที่มีค่ามากกว่า 5\n",
    "npx[npx > 5]"
   ]
  },
  {
   "cell_type": "markdown",
   "id": "4e11ac6c",
   "metadata": {},
   "source": [
    "## การเปลี่ยนรูปฟอร์ม matrix\n",
    "การเปลี่ยนรูปฟอร์มให้สลับเเถวเเละคอลัมน์ (transpose)"
   ]
  },
  {
   "cell_type": "code",
   "execution_count": 23,
   "id": "7237d368",
   "metadata": {},
   "outputs": [
    {
     "data": {
      "text/plain": [
       "array([[2, 3, 4],\n",
       "       [8, 3, 5],\n",
       "       [1, 3, 9]])"
      ]
     },
     "execution_count": 23,
     "metadata": {},
     "output_type": "execute_result"
    }
   ],
   "source": [
    "npx"
   ]
  },
  {
   "cell_type": "code",
   "execution_count": 24,
   "id": "95ab2483",
   "metadata": {},
   "outputs": [
    {
     "data": {
      "text/plain": [
       "array([[2, 8, 1],\n",
       "       [3, 3, 3],\n",
       "       [4, 5, 9]])"
      ]
     },
     "execution_count": 24,
     "metadata": {},
     "output_type": "execute_result"
    }
   ],
   "source": [
    "npx.T"
   ]
  },
  {
   "cell_type": "markdown",
   "id": "8e715132",
   "metadata": {},
   "source": [
    "การเปลี่ยนจัดเรียงให้เป็นเเนวเเถวเดียว หรือคอลัมน์เดียว"
   ]
  },
  {
   "cell_type": "code",
   "execution_count": 25,
   "id": "1a9d51d2",
   "metadata": {},
   "outputs": [
    {
     "data": {
      "text/plain": [
       "array([[2, 3, 4, 8, 3, 5, 1, 3, 9]])"
      ]
     },
     "execution_count": 25,
     "metadata": {},
     "output_type": "execute_result"
    }
   ],
   "source": [
    "npx.reshape(1, -1) # จัดเรียงให้เป็นเเถวเดียว"
   ]
  },
  {
   "cell_type": "code",
   "execution_count": 26,
   "id": "0f9efb8f",
   "metadata": {},
   "outputs": [
    {
     "data": {
      "text/plain": [
       "array([[2],\n",
       "       [3],\n",
       "       [4],\n",
       "       [8],\n",
       "       [3],\n",
       "       [5],\n",
       "       [1],\n",
       "       [3],\n",
       "       [9]])"
      ]
     },
     "execution_count": 26,
     "metadata": {},
     "output_type": "execute_result"
    }
   ],
   "source": [
    "npx.reshape(-1, 1) # จัดเรียงให้เป็นคอลัมน์เดียว"
   ]
  },
  {
   "cell_type": "markdown",
   "id": "8cf87c56",
   "metadata": {},
   "source": [
    "## การสร้างตัวเลขสุ่ม"
   ]
  },
  {
   "cell_type": "code",
   "execution_count": 27,
   "id": "fb77ca1f",
   "metadata": {},
   "outputs": [
    {
     "data": {
      "text/plain": [
       "array([0.12819127, 0.54583522, 0.90568055, 0.73379777])"
      ]
     },
     "execution_count": 27,
     "metadata": {},
     "output_type": "execute_result"
    }
   ],
   "source": [
    "# ค่า 0- 1\n",
    "np.random.rand(4) "
   ]
  },
  {
   "cell_type": "code",
   "execution_count": 28,
   "id": "a9e69f80",
   "metadata": {},
   "outputs": [
    {
     "data": {
      "text/plain": [
       "array([4.43461979, 0.13710509, 9.66249917, 5.62378407])"
      ]
     },
     "execution_count": 28,
     "metadata": {},
     "output_type": "execute_result"
    }
   ],
   "source": [
    "# ค่า 0- 10\n",
    "np.random.rand(4) * 10 "
   ]
  },
  {
   "cell_type": "code",
   "execution_count": 29,
   "id": "5656b05c",
   "metadata": {},
   "outputs": [
    {
     "data": {
      "text/plain": [
       "array([31.72332778, 21.50138574, 48.29165872, 48.32099184])"
      ]
     },
     "execution_count": 29,
     "metadata": {},
     "output_type": "execute_result"
    }
   ],
   "source": [
    "# ค่า 20 - 50\n",
    "np.random.rand(4) * 30 + 20 "
   ]
  },
  {
   "cell_type": "markdown",
   "id": "86673a45",
   "metadata": {},
   "source": [
    "สุ่มเเบบ matrix => กำหนดจำนวนเเถวเเละคอลัมน์ตามต้องการ"
   ]
  },
  {
   "cell_type": "code",
   "execution_count": 30,
   "id": "457514c5",
   "metadata": {},
   "outputs": [
    {
     "data": {
      "text/plain": [
       "array([[0.50195437, 0.98387673],\n",
       "       [0.88383491, 0.99999784],\n",
       "       [0.33237089, 0.53219633]])"
      ]
     },
     "execution_count": 30,
     "metadata": {},
     "output_type": "execute_result"
    }
   ],
   "source": [
    "np.random.rand(3, 2)"
   ]
  },
  {
   "cell_type": "markdown",
   "id": "c9360504",
   "metadata": {},
   "source": [
    "#### สร้างเลขสุ่มที่มีค่ากระจายเเบบ normal => กำหนดค่าเฉลี่ย, sd, จำนวนสุ่มที่ต้องการ"
   ]
  },
  {
   "cell_type": "code",
   "execution_count": 31,
   "id": "e43f8e2a",
   "metadata": {},
   "outputs": [
    {
     "data": {
      "text/plain": [
       "array([2.55189675, 2.2660776 , 3.41030044, 3.79346278, 2.62933235,\n",
       "       3.06474025, 2.78433993, 2.99667606, 3.08680647, 2.87352326])"
      ]
     },
     "execution_count": 31,
     "metadata": {},
     "output_type": "execute_result"
    }
   ],
   "source": [
    "mu, sigma = 3.2, 0.5\n",
    "s = np.random.normal(mu, sigma, 1000)\n",
    "s[:10] # ดูค่าสุ่ม 10 ตัวเเรก"
   ]
  },
  {
   "cell_type": "markdown",
   "id": "0a8cb4f4",
   "metadata": {},
   "source": [
    "ลอง plot histogram"
   ]
  },
  {
   "cell_type": "code",
   "execution_count": 32,
   "id": "ed244a95",
   "metadata": {},
   "outputs": [
    {
     "data": {
      "image/png": "[encoded data removed]",
      "text/plain": [
       "<Figure size 640x480 with 1 Axes>"
      ]
     },
     "metadata": {},
     "output_type": "display_data"
    }
   ],
   "source": [
    "import matplotlib.pyplot as plt\n",
    "plt.hist(s, bins=40)\n",
    "plt.show()"
   ]
  },
  {
   "cell_type": "markdown",
   "id": "58b9276a",
   "metadata": {},
   "source": [
    "จะพบว่า ข้อมูลมีค่าเฉลี่ยอยู่ที่ 3.2 โดยมีการกระจายเเบบ normal"
   ]
  }
 ],
 "metadata": {
  "kernelspec": {
   "display_name": "Python 3 (ipykernel)",
   "language": "python",
   "name": "python3"
  },
  "language_info": {
   "codemirror_mode": {
    "name": "ipython",
    "version": 3
   },
   "file_extension": ".py",
   "mimetype": "text/x-python",
   "name": "python",
   "nbconvert_exporter": "python",
   "pygments_lexer": "ipython3",
   "version": "3.10.4"
  }
 },
 "nbformat": 4,
 "nbformat_minor": 5
}
