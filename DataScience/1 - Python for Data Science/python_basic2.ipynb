{
 "cells": [
  {
   "cell_type": "markdown",
   "id": "806c5635",
   "metadata": {},
   "source": [
    "# Python for Data Science"
   ]
  },
  {
   "cell_type": "markdown",
   "id": "0381fd84",
   "metadata": {},
   "source": [
    "## 6. ข้อมูลเเบบชุด"
   ]
  },
  {
   "cell_type": "markdown",
   "id": "99777ad3",
   "metadata": {},
   "source": [
    "- ข้อมูลเเบบชุด คือ ข้อมูลที่มีหลายค่าในตัวเดียวกัน หรือ ในตัวเเปรตัวเดียวสามารถเก็บข้อมูลได้หลายค่า\n",
    "- ข้อมูลชนิดนี้เทียบได้กลับ array => คล้ายกล่อง 1 ใบ ที่เเบ่งเป็นช่อง ๆ สำหรับใส่ของที่เเต่ละช่องมีอิสระต่อกัน\n",
    "- python มีข้อมูลเเบบชุดหลายเเบบ ได้เเก่ tuple, list, dictionary"
   ]
  },
  {
   "cell_type": "markdown",
   "id": "0d389c1f",
   "metadata": {},
   "source": [
    "### 6.1 List\n",
    "List => สามารถบรรจุข้อมูลต่างชนิดกันได้ เเละสามารถเเก้ไขได้"
   ]
  },
  {
   "cell_type": "markdown",
   "id": "76516a6c",
   "metadata": {},
   "source": [
    "### ข้อมูล 1 มิติ"
   ]
  },
  {
   "cell_type": "code",
   "execution_count": 20,
   "id": "bafa2081",
   "metadata": {},
   "outputs": [
    {
     "data": {
      "text/plain": [
       "[2, 1, 3, 4, 5, 8, 9]"
      ]
     },
     "execution_count": 20,
     "metadata": {},
     "output_type": "execute_result"
    }
   ],
   "source": [
    "# ข้อมูลชนิดเดียวกัน\n",
    "data = [2, 1, 3, 4, 5, 8, 9] \n",
    "data"
   ]
  },
  {
   "cell_type": "code",
   "execution_count": 21,
   "id": "67bf9ab2",
   "metadata": {},
   "outputs": [
    {
     "data": {
      "text/plain": [
       "list"
      ]
     },
     "execution_count": 21,
     "metadata": {},
     "output_type": "execute_result"
    }
   ],
   "source": [
    "type(data)"
   ]
  },
  {
   "cell_type": "code",
   "execution_count": 22,
   "id": "f39224bc",
   "metadata": {},
   "outputs": [
    {
     "data": {
      "text/plain": [
       "['mail', 2, 4, 5.3]"
      ]
     },
     "execution_count": 22,
     "metadata": {},
     "output_type": "execute_result"
    }
   ],
   "source": [
    "# ปนกันระหว่าง string, integer, float\n",
    "lst = ['mail', 2, 4, 5.3]\n",
    "lst"
   ]
  },
  {
   "cell_type": "code",
   "execution_count": 23,
   "id": "799a27c9",
   "metadata": {},
   "outputs": [
    {
     "data": {
      "text/plain": [
       "list"
      ]
     },
     "execution_count": 23,
     "metadata": {},
     "output_type": "execute_result"
    }
   ],
   "source": [
    "type(lst)"
   ]
  },
  {
   "cell_type": "markdown",
   "id": "d9fbf7c2",
   "metadata": {},
   "source": [
    "list สามารถเเก้ไขเปลี่ยนเเปลงข้อมูล หรือเพิ่มข้อมูลได้ เช่น เพิ่มเลข 20 เข้าไปในข้อมูล"
   ]
  },
  {
   "cell_type": "code",
   "execution_count": 24,
   "id": "8ba711bf",
   "metadata": {},
   "outputs": [
    {
     "data": {
      "text/plain": [
       "[2, 1, 3, 4, 5, 8, 9]"
      ]
     },
     "execution_count": 24,
     "metadata": {},
     "output_type": "execute_result"
    }
   ],
   "source": [
    "data"
   ]
  },
  {
   "cell_type": "code",
   "execution_count": 25,
   "id": "7d6bff9d",
   "metadata": {},
   "outputs": [
    {
     "data": {
      "text/plain": [
       "[2, 1, 3, 4, 5, 8, 9, 20]"
      ]
     },
     "execution_count": 25,
     "metadata": {},
     "output_type": "execute_result"
    }
   ],
   "source": [
    "data.append(20)\n",
    "data"
   ]
  },
  {
   "cell_type": "markdown",
   "id": "5b12e01b",
   "metadata": {},
   "source": [
    "#### หาค่าเฉลี่ยข้อมูลใน list (ต้องเป็นข้อมูลตัวเลขเท่านั้น)"
   ]
  },
  {
   "cell_type": "code",
   "execution_count": 26,
   "id": "72a0cb23",
   "metadata": {},
   "outputs": [
    {
     "name": "stdout",
     "output_type": "stream",
     "text": [
      "Average (mean) = 6.5\n"
     ]
    }
   ],
   "source": [
    "avg = sum(data) / len(data)\n",
    "print('Average (mean) =', avg)"
   ]
  },
  {
   "cell_type": "markdown",
   "id": "eb21e25b",
   "metadata": {},
   "source": [
    "### ข้อมูล 2 มิติ (Matrix)\n",
    "list ซ้อน"
   ]
  },
  {
   "cell_type": "code",
   "execution_count": 27,
   "id": "8f80843f",
   "metadata": {},
   "outputs": [
    {
     "data": {
      "text/plain": [
       "[[6, 7, 8], [2, 3, 5]]"
      ]
     },
     "execution_count": 27,
     "metadata": {},
     "output_type": "execute_result"
    }
   ],
   "source": [
    "X = [[6, 7, 8],\n",
    "    [2, 3, 5]]\n",
    "X"
   ]
  },
  {
   "cell_type": "code",
   "execution_count": 28,
   "id": "33413d96",
   "metadata": {},
   "outputs": [
    {
     "data": {
      "text/plain": [
       "[[6, 7, 8], [2, 3, 5]]"
      ]
     },
     "execution_count": 28,
     "metadata": {},
     "output_type": "execute_result"
    }
   ],
   "source": [
    "X = [[6, 7, 8], [2, 3, 5]]\n",
    "X"
   ]
  },
  {
   "cell_type": "markdown",
   "id": "17dfd3a0",
   "metadata": {},
   "source": [
    "การเข้าถึง หรืออ่านค่าข้อมูล => ระบุตำเเหน่ง [row][column]"
   ]
  },
  {
   "cell_type": "code",
   "execution_count": 29,
   "id": "1b9858f6",
   "metadata": {},
   "outputs": [
    {
     "data": {
      "text/plain": [
       "6"
      ]
     },
     "execution_count": 29,
     "metadata": {},
     "output_type": "execute_result"
    }
   ],
   "source": [
    "X[0][0]"
   ]
  },
  {
   "cell_type": "code",
   "execution_count": 30,
   "id": "134c8f83",
   "metadata": {},
   "outputs": [
    {
     "data": {
      "text/plain": [
       "7"
      ]
     },
     "execution_count": 30,
     "metadata": {},
     "output_type": "execute_result"
    }
   ],
   "source": [
    "X[0][1]"
   ]
  },
  {
   "cell_type": "code",
   "execution_count": 31,
   "id": "19c80452",
   "metadata": {},
   "outputs": [
    {
     "data": {
      "text/plain": [
       "5"
      ]
     },
     "execution_count": 31,
     "metadata": {},
     "output_type": "execute_result"
    }
   ],
   "source": [
    "X[1][2]"
   ]
  },
  {
   "cell_type": "markdown",
   "id": "4e07b26c",
   "metadata": {},
   "source": [
    "### 6.2 Tuple\n",
    "Tuple => เมื่อกำหนดค่าเเล้วจะไม่สามารถเเก้ไขเพิ่มเติมได้ เหมาะสำหรับการกำหนดเป็นค่าคงที่"
   ]
  },
  {
   "cell_type": "code",
   "execution_count": 32,
   "id": "1beaa6b0",
   "metadata": {},
   "outputs": [
    {
     "data": {
      "text/plain": [
       "(2, 2, 5, 8)"
      ]
     },
     "execution_count": 32,
     "metadata": {},
     "output_type": "execute_result"
    }
   ],
   "source": [
    "tpl = (2, 2, 5, 8)\n",
    "tpl"
   ]
  },
  {
   "cell_type": "code",
   "execution_count": 33,
   "id": "d97fe9ad",
   "metadata": {},
   "outputs": [
    {
     "data": {
      "text/plain": [
       "(2, 2, 5, 8)"
      ]
     },
     "execution_count": 33,
     "metadata": {},
     "output_type": "execute_result"
    }
   ],
   "source": [
    "tpl = 2, 2, 5, 8 # ไม่ใช้ () ก็ได้เหมือนกัน\n",
    "tpl"
   ]
  },
  {
   "cell_type": "code",
   "execution_count": 34,
   "id": "6f115910",
   "metadata": {},
   "outputs": [
    {
     "data": {
      "text/plain": [
       "tuple"
      ]
     },
     "execution_count": 34,
     "metadata": {},
     "output_type": "execute_result"
    }
   ],
   "source": [
    "type(tpl)"
   ]
  },
  {
   "cell_type": "markdown",
   "id": "fa2f0612",
   "metadata": {},
   "source": [
    "### การอ่านค่าข้อมูล List เเละ Tuple"
   ]
  },
  {
   "cell_type": "code",
   "execution_count": 35,
   "id": "d43b8d5e",
   "metadata": {},
   "outputs": [],
   "source": [
    "data = [2, 1, 3, 4, 5, 6, 3, 20]"
   ]
  },
  {
   "cell_type": "code",
   "execution_count": 36,
   "id": "752186ac",
   "metadata": {},
   "outputs": [
    {
     "data": {
      "text/plain": [
       "2"
      ]
     },
     "execution_count": 36,
     "metadata": {},
     "output_type": "execute_result"
    }
   ],
   "source": [
    "data[0]"
   ]
  },
  {
   "cell_type": "code",
   "execution_count": 37,
   "id": "fea64efc",
   "metadata": {},
   "outputs": [
    {
     "data": {
      "text/plain": [
       "3"
      ]
     },
     "execution_count": 37,
     "metadata": {},
     "output_type": "execute_result"
    }
   ],
   "source": [
    "data[2]"
   ]
  },
  {
   "cell_type": "code",
   "execution_count": 38,
   "id": "20a9f21d",
   "metadata": {},
   "outputs": [
    {
     "data": {
      "text/plain": [
       "20"
      ]
     },
     "execution_count": 38,
     "metadata": {},
     "output_type": "execute_result"
    }
   ],
   "source": [
    "data[-1] # ตัวสุดท้าย"
   ]
  },
  {
   "cell_type": "code",
   "execution_count": 39,
   "id": "eac456ff",
   "metadata": {},
   "outputs": [
    {
     "data": {
      "text/plain": [
       "3"
      ]
     },
     "execution_count": 39,
     "metadata": {},
     "output_type": "execute_result"
    }
   ],
   "source": [
    "data[-2]"
   ]
  },
  {
   "cell_type": "markdown",
   "id": "0e2aaea0",
   "metadata": {},
   "source": [
    "### การอ่านค่าช่วงข้อมูล (slicing) List เเละ Tuple\n",
    "สามารถกำหนดโดยระบุเป็นช่วง ==> ชื่อตัวเเปร[index1: index2]\n",
    "- index1: ตำเเหน่งเริ่มต้น\n",
    "- index2: ตำเเหน่งสุดท้าย-1"
   ]
  },
  {
   "cell_type": "code",
   "execution_count": 40,
   "id": "27e2991a",
   "metadata": {},
   "outputs": [],
   "source": [
    "data = [2, 1, 3, 4, 5, 6, 3, 20]"
   ]
  },
  {
   "cell_type": "code",
   "execution_count": 41,
   "id": "4e05320c",
   "metadata": {},
   "outputs": [
    {
     "data": {
      "text/plain": [
       "[2, 1]"
      ]
     },
     "execution_count": 41,
     "metadata": {},
     "output_type": "execute_result"
    }
   ],
   "source": [
    "data[0:2]"
   ]
  },
  {
   "cell_type": "code",
   "execution_count": 42,
   "id": "43c64bf6",
   "metadata": {},
   "outputs": [
    {
     "data": {
      "text/plain": [
       "[4, 5, 6]"
      ]
     },
     "execution_count": 42,
     "metadata": {},
     "output_type": "execute_result"
    }
   ],
   "source": [
    "data[3:6]"
   ]
  },
  {
   "cell_type": "code",
   "execution_count": 43,
   "id": "d3f61765",
   "metadata": {},
   "outputs": [
    {
     "data": {
      "text/plain": [
       "[1, 3, 4, 5, 6, 3]"
      ]
     },
     "execution_count": 43,
     "metadata": {},
     "output_type": "execute_result"
    }
   ],
   "source": [
    "data[1:-1] # คือตำเเหน่งเเรก index 1 ไปจนถึงตำเเหน่ง index-2"
   ]
  },
  {
   "cell_type": "code",
   "execution_count": 44,
   "id": "a31c86cb",
   "metadata": {},
   "outputs": [
    {
     "data": {
      "text/plain": [
       "[2, 1, 3, 4, 5, 6, 3, 20]"
      ]
     },
     "execution_count": 44,
     "metadata": {},
     "output_type": "execute_result"
    }
   ],
   "source": [
    "data[:] # ข้อมูลทั้งหมด"
   ]
  },
  {
   "cell_type": "code",
   "execution_count": 45,
   "id": "6166a59e",
   "metadata": {},
   "outputs": [
    {
     "data": {
      "text/plain": [
       "[2, 1, 3, 4]"
      ]
     },
     "execution_count": 45,
     "metadata": {},
     "output_type": "execute_result"
    }
   ],
   "source": [
    "data[:4] # จากเริ่มต้นไปจนถึง index 3"
   ]
  },
  {
   "cell_type": "code",
   "execution_count": 46,
   "id": "e79b457d",
   "metadata": {},
   "outputs": [
    {
     "data": {
      "text/plain": [
       "[5, 6, 3, 20]"
      ]
     },
     "execution_count": 46,
     "metadata": {},
     "output_type": "execute_result"
    }
   ],
   "source": [
    "data[4:] # จาก index4 ไปจนถึงสุดท้าย"
   ]
  },
  {
   "cell_type": "markdown",
   "id": "ef74fbe9",
   "metadata": {},
   "source": [
    "#### การวนรอบอ่านค่าใน list/tuple มาประมวลผล"
   ]
  },
  {
   "cell_type": "code",
   "execution_count": 47,
   "id": "8803c0b5",
   "metadata": {},
   "outputs": [
    {
     "name": "stdout",
     "output_type": "stream",
     "text": [
      "4\n",
      "2\n",
      "6\n",
      "8\n",
      "10\n",
      "12\n",
      "6\n",
      "40\n"
     ]
    }
   ],
   "source": [
    "for k in data:\n",
    "    b = k*2\n",
    "    print(b)"
   ]
  },
  {
   "cell_type": "code",
   "execution_count": 48,
   "id": "94337458",
   "metadata": {},
   "outputs": [
    {
     "name": "stdout",
     "output_type": "stream",
     "text": [
      "4\n",
      "2\n",
      "6\n"
     ]
    }
   ],
   "source": [
    "for k in data[:3]:\n",
    "    b = k*2\n",
    "    print(b)"
   ]
  },
  {
   "cell_type": "markdown",
   "id": "26560716",
   "metadata": {},
   "source": [
    "หากต้องการค่าลำดับตำเเหน่ง (index) ของข้อมูลไปใช้งานด้วย ให้ใช้ enumerate"
   ]
  },
  {
   "cell_type": "code",
   "execution_count": 49,
   "id": "a0989c9c",
   "metadata": {},
   "outputs": [
    {
     "name": "stdout",
     "output_type": "stream",
     "text": [
      "0 2\n",
      "1 1\n",
      "2 3\n",
      "3 4\n",
      "4 5\n",
      "5 6\n",
      "6 3\n",
      "7 20\n"
     ]
    }
   ],
   "source": [
    "for i, k in enumerate(data):\n",
    "    print(i, k)"
   ]
  },
  {
   "cell_type": "markdown",
   "id": "9aab187a",
   "metadata": {},
   "source": [
    "### 6.3 Dictionary\n",
    "- Dictionary => สามารถเก็บข้อมูลได้หลายค่าเเละต่างชนิดกันได้\n",
    "- โครงสร้างเก็บข้อมูล => \"key-value pairs\""
   ]
  },
  {
   "cell_type": "code",
   "execution_count": 50,
   "id": "bca9b9b6",
   "metadata": {},
   "outputs": [
    {
     "data": {
      "text/plain": [
       "{'Name': 'Mail', 'Age': 22, 'Score': 35}"
      ]
     },
     "execution_count": 50,
     "metadata": {},
     "output_type": "execute_result"
    }
   ],
   "source": [
    "data = {'Name': 'Mail',\n",
    "       'Age': 22,\n",
    "       'Score': 35}\n",
    "\n",
    "data"
   ]
  },
  {
   "cell_type": "code",
   "execution_count": 51,
   "id": "1dcc5301",
   "metadata": {},
   "outputs": [
    {
     "data": {
      "text/plain": [
       "dict"
      ]
     },
     "execution_count": 51,
     "metadata": {},
     "output_type": "execute_result"
    }
   ],
   "source": [
    "type(data)"
   ]
  },
  {
   "cell_type": "markdown",
   "id": "9e90f211",
   "metadata": {},
   "source": [
    "การอ่านหรือเข้าถึงข้อมูล ให้ระบุชื่อ key เช่น"
   ]
  },
  {
   "cell_type": "code",
   "execution_count": 52,
   "id": "42b711c9",
   "metadata": {},
   "outputs": [
    {
     "data": {
      "text/plain": [
       "'Mail'"
      ]
     },
     "execution_count": 52,
     "metadata": {},
     "output_type": "execute_result"
    }
   ],
   "source": [
    "data['Name']"
   ]
  },
  {
   "cell_type": "code",
   "execution_count": 53,
   "id": "8df1012e",
   "metadata": {},
   "outputs": [
    {
     "data": {
      "text/plain": [
       "22"
      ]
     },
     "execution_count": 53,
     "metadata": {},
     "output_type": "execute_result"
    }
   ],
   "source": [
    "data['Age']"
   ]
  },
  {
   "cell_type": "code",
   "execution_count": 54,
   "id": "af4a7dee",
   "metadata": {},
   "outputs": [
    {
     "data": {
      "text/plain": [
       "35"
      ]
     },
     "execution_count": 54,
     "metadata": {},
     "output_type": "execute_result"
    }
   ],
   "source": [
    "data['Score']"
   ]
  },
  {
   "cell_type": "markdown",
   "id": "2939238e",
   "metadata": {},
   "source": [
    "ถ้ามีข้อมูลหลายเเถว (บันทึกของหลายคน) จะต้องบรรจุด dictionary ใน list หรือ tuple เช่น"
   ]
  },
  {
   "cell_type": "code",
   "execution_count": 55,
   "id": "72bc9fea",
   "metadata": {},
   "outputs": [
    {
     "data": {
      "text/plain": [
       "[{'Name': 'Mail', 'Age': 22, 'Score': 35},\n",
       " {'Name': 'Arys', 'Age': 23, 'Score': 25},\n",
       " {'Name': 'Tim', 'Age': 24, 'Score': 10},\n",
       " {'Name': 'A', 'Age': 25, 'Score': 5}]"
      ]
     },
     "execution_count": 55,
     "metadata": {},
     "output_type": "execute_result"
    }
   ],
   "source": [
    "data = [{'Name': 'Mail', 'Age': 22, 'Score': 35},\n",
    "        {'Name': 'Arys', 'Age': 23, 'Score': 25},\n",
    "        {'Name': 'Tim', 'Age': 24, 'Score': 10},\n",
    "        {'Name': 'A', 'Age': 25, 'Score': 5}]\n",
    "data"
   ]
  },
  {
   "cell_type": "code",
   "execution_count": 56,
   "id": "3e922268",
   "metadata": {},
   "outputs": [
    {
     "data": {
      "text/plain": [
       "list"
      ]
     },
     "execution_count": 56,
     "metadata": {},
     "output_type": "execute_result"
    }
   ],
   "source": [
    "type(data)"
   ]
  },
  {
   "cell_type": "code",
   "execution_count": 57,
   "id": "5f3db498",
   "metadata": {},
   "outputs": [
    {
     "data": {
      "text/plain": [
       "{'Name': 'Mail', 'Age': 22, 'Score': 35}"
      ]
     },
     "execution_count": 57,
     "metadata": {},
     "output_type": "execute_result"
    }
   ],
   "source": [
    "data[0]"
   ]
  },
  {
   "cell_type": "code",
   "execution_count": 58,
   "id": "9d57aa99",
   "metadata": {},
   "outputs": [
    {
     "data": {
      "text/plain": [
       "'Mail'"
      ]
     },
     "execution_count": 58,
     "metadata": {},
     "output_type": "execute_result"
    }
   ],
   "source": [
    "data[0]['Name']"
   ]
  },
  {
   "cell_type": "code",
   "execution_count": 59,
   "id": "53f88ad4",
   "metadata": {},
   "outputs": [
    {
     "data": {
      "text/plain": [
       "22"
      ]
     },
     "execution_count": 59,
     "metadata": {},
     "output_type": "execute_result"
    }
   ],
   "source": [
    "data[0]['Age']"
   ]
  },
  {
   "cell_type": "code",
   "execution_count": 60,
   "id": "9c1f171b",
   "metadata": {},
   "outputs": [
    {
     "name": "stdout",
     "output_type": "stream",
     "text": [
      "Mail 35\n",
      "Arys 25\n",
      "Tim 10\n",
      "A 5\n"
     ]
    }
   ],
   "source": [
    "for k in data:\n",
    "    print(k['Name'], k['Score'])"
   ]
  },
  {
   "cell_type": "code",
   "execution_count": 61,
   "id": "b9804beb",
   "metadata": {},
   "outputs": [
    {
     "name": "stdout",
     "output_type": "stream",
     "text": [
      "Mail  35\n",
      "Arys  25\n",
      "Tim   10\n",
      "A     5\n"
     ]
    }
   ],
   "source": [
    "for k in data:\n",
    "    print('{:5} {}'.format(k['Name'], k['Score']))"
   ]
  }
 ],
 "metadata": {
  "kernelspec": {
   "display_name": "Python 3 (ipykernel)",
   "language": "python",
   "name": "python3"
  },
  "language_info": {
   "codemirror_mode": {
    "name": "ipython",
    "version": 3
   },
   "file_extension": ".py",
   "mimetype": "text/x-python",
   "name": "python",
   "nbconvert_exporter": "python",
   "pygments_lexer": "ipython3",
   "version": "3.10.4"
  }
 },
 "nbformat": 4,
 "nbformat_minor": 5
}
