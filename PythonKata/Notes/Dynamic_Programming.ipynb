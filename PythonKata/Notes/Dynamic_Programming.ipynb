{
 "cells": [
  {
   "cell_type": "code",
   "execution_count": 1,
   "id": "9f1d9980",
   "metadata": {},
   "outputs": [],
   "source": [
    "def fibo(n):\n",
    "    if n <= 1:\n",
    "        return n\n",
    "    return fibo(n-1) + fibo(n-2)"
   ]
  },
  {
   "cell_type": "code",
   "execution_count": 2,
   "id": "a53b1993",
   "metadata": {},
   "outputs": [
    {
     "name": "stdout",
     "output_type": "stream",
     "text": [
      "2\n"
     ]
    }
   ],
   "source": [
    "print(fibo(3))"
   ]
  },
  {
   "cell_type": "code",
   "execution_count": 3,
   "id": "ad9021cd",
   "metadata": {},
   "outputs": [
    {
     "name": "stdout",
     "output_type": "stream",
     "text": [
      "55\n"
     ]
    }
   ],
   "source": [
    "print(fibo(10)) # เกิดปํญหา big o "
   ]
  },
  {
   "cell_type": "markdown",
   "id": "fb53ad8f",
   "metadata": {},
   "source": [
    "# Dynamic Programming"
   ]
  },
  {
   "cell_type": "markdown",
   "id": "dbcacd64",
   "metadata": {},
   "source": [
    "### Technique1: DP Memorization => Top-down Dynamic Programming \n",
    "ทำอะไรไปเเล้วก็จำไว้ จะได้ไม่ทำซ้ำอีก"
   ]
  },
  {
   "cell_type": "code",
   "execution_count": 4,
   "id": "30af1618",
   "metadata": {},
   "outputs": [],
   "source": [
    "def fibo(n, memo={}):\n",
    "    if n <= 1:\n",
    "        return n\n",
    "    if n in memo:\n",
    "        return memo[n]\n",
    "    \n",
    "    memo[n] = fibo(n-1, memo) + fibo(n-2, memo)\n",
    "    return memo[n]"
   ]
  },
  {
   "cell_type": "code",
   "execution_count": 5,
   "id": "84397b35",
   "metadata": {},
   "outputs": [
    {
     "name": "stdout",
     "output_type": "stream",
     "text": [
      "2\n"
     ]
    }
   ],
   "source": [
    "print(fibo(3, {}))"
   ]
  },
  {
   "cell_type": "code",
   "execution_count": 6,
   "id": "da03741a",
   "metadata": {},
   "outputs": [
    {
     "name": "stdout",
     "output_type": "stream",
     "text": [
      "43466557686937456435688527675040625802564660517371780402481729089536555417949051890403879840079255169295922593080322634775209689623239873322471161642996440906533187938298969649928516003704476137795166849228875\n"
     ]
    }
   ],
   "source": [
    "print(fibo(1000, {}))"
   ]
  },
  {
   "cell_type": "markdown",
   "id": "895218b1",
   "metadata": {},
   "source": [
    "### Technique2: DP Tabulation => Bottom-Up Dynamic Programming \n",
    "- ทำจากเล็ก ๆ เเล้วไล่ไป --> มันจะพยายามเข้าไปเจอปัญหาก่อน เจอปัญหาเสร็จก็เเก้ จำเอาไว้ เเล้วค่อยไปต่อ\n",
    "- เเต่จะพยายามซอยปัญหาจากเล็ก ๆ เเล้วค่อยไปต่อ"
   ]
  },
  {
   "cell_type": "code",
   "execution_count": 7,
   "id": "5134e615",
   "metadata": {},
   "outputs": [],
   "source": [
    "def fibo_bottom(n):\n",
    "    fibo = [0] * (n+1)\n",
    "    fibo[1] = 1\n",
    "    for i in range(2, n+1):\n",
    "        fibo[i] = fibo[i-1] + fibo[i-2]\n",
    "    \n",
    "    return fibo[n]"
   ]
  },
  {
   "cell_type": "code",
   "execution_count": 8,
   "id": "d0f6e961",
   "metadata": {},
   "outputs": [
    {
     "name": "stdout",
     "output_type": "stream",
     "text": [
      "43466557686937456435688527675040625802564660517371780402481729089536555417949051890403879840079255169295922593080322634775209689623239873322471161642996440906533187938298969649928516003704476137795166849228875\n"
     ]
    }
   ],
   "source": [
    "print(fibo_bottom(1000))"
   ]
  }
 ],
 "metadata": {
  "kernelspec": {
   "display_name": "Python 3 (ipykernel)",
   "language": "python",
   "name": "python3"
  },
  "language_info": {
   "codemirror_mode": {
    "name": "ipython",
    "version": 3
   },
   "file_extension": ".py",
   "mimetype": "text/x-python",
   "name": "python",
   "nbconvert_exporter": "python",
   "pygments_lexer": "ipython3",
   "version": "3.10.4"
  }
 },
 "nbformat": 4,
 "nbformat_minor": 5
}
