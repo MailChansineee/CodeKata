{
 "cells": [
  {
   "cell_type": "markdown",
   "id": "4ffbcb85",
   "metadata": {},
   "source": [
    "# การสร้างสำรับไพ่ โดยใช้ nested loop"
   ]
  },
  {
   "cell_type": "raw",
   "id": "3b4259fe",
   "metadata": {},
   "source": [
    "##### Author: Chansinee Mueangnu\n",
    "This code is just the code I used to practice my Python skills. There may be some code I learned from studying videos on the prasertcbs Youtube channel."
   ]
  },
  {
   "cell_type": "code",
   "execution_count": 1,
   "id": "0caa6f70",
   "metadata": {},
   "outputs": [],
   "source": [
    "# 'A♠', '2♠', '3♠', '4♠', '5♠', '6♠', '7♠', '8♠', '9♠', '10♠', 'J♠', 'Q♠', 'K♠',\n",
    "# 'A♥', '2♥', '3♥', '4♥', '5♥', '6♥', '7♥', '8♥', '9♥', '10♥', 'J♥', 'Q♥', 'K♥',\n",
    "# 'A♦', '2♦', '3♦', '4♦', '5♦', '6♦', '7♦', '8♦', '9♦', '10♦', 'J♦', 'Q♦', 'K♦',\n",
    "# 'A♣', '2♣', '3♣', '4♣', '5♣', '6♣', '7♣', '8♣', '9♣', '10♣', 'J♣', 'Q♣', 'K♣'\n",
    "# playing card unicode: https://en.wikipedia.org/wiki/Playing_cards_in_Unicode"
   ]
  },
  {
   "cell_type": "code",
   "execution_count": 2,
   "id": "0cace258",
   "metadata": {},
   "outputs": [
    {
     "name": "stdout",
     "output_type": "stream",
     "text": [
      "('♠', '♥', '♦', '♣')\n"
     ]
    }
   ],
   "source": [
    "suit = (\"\\u2660\", \"\\u2665\", \"\\u2666\", \"\\u2663\")\n",
    "print(suit)"
   ]
  },
  {
   "cell_type": "code",
   "execution_count": 3,
   "id": "3b4c3902",
   "metadata": {},
   "outputs": [
    {
     "name": "stdout",
     "output_type": "stream",
     "text": [
      "('A', '2', '3', '4', '5', '6', '7', '8', '9', '10', 'J', 'Q', 'K')\n"
     ]
    }
   ],
   "source": [
    "rank = 'A', '2', '3', '4', '5', '6', '7', '8', '9', '10', 'J', 'Q', 'K'\n",
    "print(rank)"
   ]
  },
  {
   "cell_type": "code",
   "execution_count": 4,
   "id": "b3ccf2bd",
   "metadata": {},
   "outputs": [
    {
     "name": "stdout",
     "output_type": "stream",
     "text": [
      "['A', '2', '3', '4', '5', '6', '7', '8', '9', '10', 'J', 'Q', 'K']\n"
     ]
    }
   ],
   "source": [
    "rank = list(\"A23456789\") + [\"10\"] + list(\"JQK\")\n",
    "print(rank)"
   ]
  },
  {
   "cell_type": "code",
   "execution_count": 5,
   "id": "d05af26a",
   "metadata": {},
   "outputs": [],
   "source": [
    "def playing_card():\n",
    "    suit = (\"\\u2660\", \"\\u2665\", \"\\u2666\", \"\\u2663\")\n",
    "    rank = list(\"A23456789\") + [\"10\"] + list(\"JQK\")\n",
    "    deck = [] # list\n",
    "\n",
    "    for s in suit:\n",
    "        for r in rank:\n",
    "            deck.append(r + s)\n",
    "    return deck"
   ]
  },
  {
   "cell_type": "code",
   "execution_count": 6,
   "id": "0a6f6d94",
   "metadata": {},
   "outputs": [
    {
     "name": "stdout",
     "output_type": "stream",
     "text": [
      "['A♠', '2♠', '3♠', '4♠', '5♠', '6♠', '7♠', '8♠', '9♠', '10♠', 'J♠', 'Q♠', 'K♠', 'A♥', '2♥', '3♥', '4♥', '5♥', '6♥', '7♥', '8♥', '9♥', '10♥', 'J♥', 'Q♥', 'K♥', 'A♦', '2♦', '3♦', '4♦', '5♦', '6♦', '7♦', '8♦', '9♦', '10♦', 'J♦', 'Q♦', 'K♦', 'A♣', '2♣', '3♣', '4♣', '5♣', '6♣', '7♣', '8♣', '9♣', '10♣', 'J♣', 'Q♣', 'K♣']\n"
     ]
    }
   ],
   "source": [
    "d = playing_card()\n",
    "print(d)"
   ]
  },
  {
   "cell_type": "markdown",
   "id": "8c5e2965",
   "metadata": {},
   "source": [
    "ต้องการให้สับไพ่ในสำหรับด้วย"
   ]
  },
  {
   "cell_type": "code",
   "execution_count": 7,
   "id": "664ee9c2",
   "metadata": {},
   "outputs": [],
   "source": [
    "import random"
   ]
  },
  {
   "cell_type": "code",
   "execution_count": 8,
   "id": "70c025cb",
   "metadata": {},
   "outputs": [],
   "source": [
    "d = playing_card()"
   ]
  },
  {
   "cell_type": "code",
   "execution_count": 9,
   "id": "3e8c0f2e",
   "metadata": {},
   "outputs": [
    {
     "name": "stdout",
     "output_type": "stream",
     "text": [
      "['5♦', '7♣', '9♣', '5♣', 'Q♠', '3♣', 'K♠', 'Q♣', '3♥', '5♠', '2♠', '7♥', '10♥', 'K♥', '5♥', '8♥', '8♣', '3♦', '7♠', '2♦', '9♠', '9♦', '7♦', '6♦', '8♦', '9♥', '8♠', 'Q♥', '4♥', '10♣', '6♥', '6♠', '4♦', 'A♣', 'A♦', '2♣', '2♥', '4♠', 'A♠', '3♠', 'J♥', 'J♠', 'K♣', '4♣', '6♣', 'J♦', 'J♣', 'A♥', 'K♦', '10♠', '10♦', 'Q♦']\n"
     ]
    }
   ],
   "source": [
    "random.shuffle(d)\n",
    "print(d)"
   ]
  },
  {
   "cell_type": "markdown",
   "id": "f17f67b6",
   "metadata": {},
   "source": [
    "สุ่มหยิบไพ่ขึ้นมา x ใบ"
   ]
  },
  {
   "cell_type": "code",
   "execution_count": 10,
   "id": "5d658b1e",
   "metadata": {},
   "outputs": [
    {
     "name": "stdout",
     "output_type": "stream",
     "text": [
      "['A♠', 'K♦', 'Q♠']\n"
     ]
    }
   ],
   "source": [
    "p = random.sample(d, 3)\n",
    "print(p)"
   ]
  }
 ],
 "metadata": {
  "kernelspec": {
   "display_name": "Python 3 (ipykernel)",
   "language": "python",
   "name": "python3"
  },
  "language_info": {
   "codemirror_mode": {
    "name": "ipython",
    "version": 3
   },
   "file_extension": ".py",
   "mimetype": "text/x-python",
   "name": "python",
   "nbconvert_exporter": "python",
   "pygments_lexer": "ipython3",
   "version": "3.10.4"
  }
 },
 "nbformat": 4,
 "nbformat_minor": 5
}
