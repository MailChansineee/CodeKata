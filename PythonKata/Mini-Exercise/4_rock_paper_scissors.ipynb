{
 "cells": [
  {
   "cell_type": "markdown",
   "id": "2966e6bf",
   "metadata": {},
   "source": [
    "# เกมเป่ายิ้งฉุบ (rock, paper, scissors)"
   ]
  },
  {
   "cell_type": "markdown",
   "id": "61fe0921",
   "metadata": {},
   "source": [
    "##### Author: Chansinee Mueangnu\n",
    "This code is just the code I used to practice my Python skills. There some code I learned from studying videos on the prasertcbs Youtube channel."
   ]
  },
  {
   "cell_type": "markdown",
   "id": "26cd7b5d",
   "metadata": {},
   "source": [
    "### test"
   ]
  },
  {
   "cell_type": "code",
   "execution_count": 1,
   "id": "c92724ac",
   "metadata": {},
   "outputs": [
    {
     "name": "stdout",
     "output_type": "stream",
     "text": [
      "[r]ock, [p]aper, [s]cissors, e[x]itr\n"
     ]
    }
   ],
   "source": [
    "player = input(\"[r]ock, [p]aper, [s]cissors, e[x]it\")"
   ]
  },
  {
   "cell_type": "code",
   "execution_count": 2,
   "id": "85ec87d7",
   "metadata": {},
   "outputs": [],
   "source": [
    "import random"
   ]
  },
  {
   "cell_type": "code",
   "execution_count": 3,
   "id": "9d94cbae",
   "metadata": {},
   "outputs": [
    {
     "data": {
      "text/plain": [
       "'s'"
      ]
     },
     "execution_count": 3,
     "metadata": {},
     "output_type": "execute_result"
    }
   ],
   "source": [
    "m = (\"r\", \"p\", \"s\")\n",
    "computer = m[random.randrange(len(m))]\n",
    "computer"
   ]
  },
  {
   "cell_type": "code",
   "execution_count": 4,
   "id": "b47cdf9a",
   "metadata": {},
   "outputs": [
    {
     "data": {
      "text/plain": [
       "'p'"
      ]
     },
     "execution_count": 4,
     "metadata": {},
     "output_type": "execute_result"
    }
   ],
   "source": [
    "d = {\"r\": \"rock\", \"p\": \"paper\", \"s\": \"scissors\"}\n",
    "computer = random.choice(list(d.keys()))\n",
    "computer"
   ]
  },
  {
   "cell_type": "markdown",
   "id": "c99df4c2",
   "metadata": {},
   "source": [
    "### Program"
   ]
  },
  {
   "cell_type": "code",
   "execution_count": null,
   "id": "0fb4addd",
   "metadata": {},
   "outputs": [
    {
     "name": "stdout",
     "output_type": "stream",
     "text": [
      "[r]ock, [p]aper, [s]cissors, e[x]it ->r\n",
      "you: rock <-> computer: rock -> tie\n",
      "[r]ock, [p]aper, [s]cissors, e[x]it ->r\n",
      "you: rock <-> computer: paper -> you lose\n",
      "[r]ock, [p]aper, [s]cissors, e[x]it ->p\n",
      "you: paper <-> computer: paper -> tie\n",
      "[r]ock, [p]aper, [s]cissors, e[x]it ->p\n",
      "you: paper <-> computer: scissors -> you lose\n",
      "[r]ock, [p]aper, [s]cissors, e[x]it ->s\n",
      "you: scissors <-> computer: rock -> you lose\n",
      "[r]ock, [p]aper, [s]cissors, e[x]it ->s\n",
      "you: scissors <-> computer: rock -> you lose\n",
      "[r]ock, [p]aper, [s]cissors, e[x]it ->p\n",
      "you: paper <-> computer: scissors -> you lose\n",
      "[r]ock, [p]aper, [s]cissors, e[x]it ->p\n",
      "you: paper <-> computer: rock -> you win\n"
     ]
    }
   ],
   "source": [
    "def play(player):\n",
    "    d = {\"r\": \"rock\", \"p\": \"paper\", \"s\": \"scissors\"}\n",
    "    computer = random.choice(list(d.keys()))\n",
    "    \n",
    "    if player == computer:\n",
    "        result = \"tie\"\n",
    "    elif player == \"r\" and computer == \"s\":\n",
    "        result = \"you win\"\n",
    "    elif player == \"p\" and computer == \"r\":\n",
    "        result = \"you win\"\n",
    "    elif player == \"s\" and computer == \"p\":\n",
    "        result = \"you win\"\n",
    "    else:\n",
    "        result = \"you lose\"\n",
    "    \n",
    "    print(\"you: {} <-> computer: {} -> {}\". format(d[player], d[computer], result))\n",
    "\n",
    "\n",
    "while True:\n",
    "    player = input(\"[r]ock, [p]aper, [s]cissors, e[x]it ->\")\n",
    "    if player == \"x\":\n",
    "        break\n",
    "    else:\n",
    "        play(player)"
   ]
  },
  {
   "cell_type": "code",
   "execution_count": null,
   "id": "0178d42d",
   "metadata": {},
   "outputs": [],
   "source": []
  }
 ],
 "metadata": {
  "kernelspec": {
   "display_name": "Python 3 (ipykernel)",
   "language": "python",
   "name": "python3"
  },
  "language_info": {
   "codemirror_mode": {
    "name": "ipython",
    "version": 3
   },
   "file_extension": ".py",
   "mimetype": "text/x-python",
   "name": "python",
   "nbconvert_exporter": "python",
   "pygments_lexer": "ipython3",
   "version": "3.10.4"
  }
 },
 "nbformat": 4,
 "nbformat_minor": 5
}
