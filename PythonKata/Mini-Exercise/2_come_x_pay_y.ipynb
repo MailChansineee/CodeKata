{
 "cells": [
  {
   "cell_type": "markdown",
   "id": "7c660a58",
   "metadata": {},
   "source": [
    "# คำนวณโปรโมชั่นแบบ มา x จ่าย y เช่น มา 4 จ่าย 3"
   ]
  },
  {
   "cell_type": "raw",
   "id": "1e2da5c8",
   "metadata": {},
   "source": [
    "##### Author: Chansinee Mueangnu\n",
    "This code is just the code I used to practice my Python skills. There may be some code I learned from studying videos on the prasertcbs Youtube channel."
   ]
  },
  {
   "cell_type": "code",
   "execution_count": 1,
   "id": "5c9cfcfa",
   "metadata": {},
   "outputs": [],
   "source": [
    "# come 3, pay 2\n",
    "# come 4, pay 3\n",
    "\n",
    "# input --> process --> output"
   ]
  },
  {
   "cell_type": "markdown",
   "id": "346517d0",
   "metadata": {},
   "source": [
    "## Input "
   ]
  },
  {
   "cell_type": "code",
   "execution_count": 2,
   "id": "f3824312",
   "metadata": {},
   "outputs": [],
   "source": [
    "# input\n",
    "come_x = 4\n",
    "pay_y = 3\n",
    "per_head = 100 \n",
    "pax = 5 # จำนวนคนที่มาในครั้งนั้น"
   ]
  },
  {
   "cell_type": "markdown",
   "id": "bcd313e3",
   "metadata": {},
   "source": [
    "#### Test Process"
   ]
  },
  {
   "cell_type": "code",
   "execution_count": 3,
   "id": "c13456ff",
   "metadata": {},
   "outputs": [
    {
     "name": "stdout",
     "output_type": "stream",
     "text": [
      "300\n"
     ]
    }
   ],
   "source": [
    "print((pax // come_x) * (pay_y * per_head))"
   ]
  },
  {
   "cell_type": "code",
   "execution_count": 4,
   "id": "2b0e54d8",
   "metadata": {},
   "outputs": [
    {
     "name": "stdout",
     "output_type": "stream",
     "text": [
      "100\n"
     ]
    }
   ],
   "source": [
    "print(pax % come_x * per_head)"
   ]
  },
  {
   "cell_type": "code",
   "execution_count": 5,
   "id": "c0ea7c27",
   "metadata": {},
   "outputs": [
    {
     "name": "stdout",
     "output_type": "stream",
     "text": [
      "400\n"
     ]
    }
   ],
   "source": [
    "total = (pax // come_x) * (pay_y * per_head) + (pax % come_x * per_head)\n",
    "print(total)"
   ]
  },
  {
   "cell_type": "markdown",
   "id": "d40bbab4",
   "metadata": {},
   "source": [
    "## Process"
   ]
  },
  {
   "cell_type": "code",
   "execution_count": 6,
   "id": "027382e8",
   "metadata": {},
   "outputs": [
    {
     "name": "stdout",
     "output_type": "stream",
     "text": [
      "2000\n"
     ]
    }
   ],
   "source": [
    "def come_x_pay_y(pax, per_head, come_x=4, pay_y=3):\n",
    "    total = (pax // come_x) * (pay_y * per_head) + (pax % come_x * per_head)\n",
    "    return total\n",
    "\n",
    "# print(come_x_pay_y(3, 100, 3, 2))\n",
    "print(come_x_pay_y(10, 250, 7, 5)) "
   ]
  },
  {
   "cell_type": "markdown",
   "id": "544c6acb",
   "metadata": {},
   "source": [
    "result: promotion มา 7 จ่าย 5 (หัวละ 250) --> ถ้ามา 10 คน จ่าย 2000"
   ]
  },
  {
   "cell_type": "code",
   "execution_count": null,
   "id": "b773aeab",
   "metadata": {},
   "outputs": [],
   "source": []
  }
 ],
 "metadata": {
  "kernelspec": {
   "display_name": "Basic-Python",
   "language": "python",
   "name": "py3"
  },
  "language_info": {
   "codemirror_mode": {
    "name": "ipython",
    "version": 3
   },
   "file_extension": ".py",
   "mimetype": "text/x-python",
   "name": "python",
   "nbconvert_exporter": "python",
   "pygments_lexer": "ipython3",
   "version": "3.11.5"
  }
 },
 "nbformat": 4,
 "nbformat_minor": 5
}
