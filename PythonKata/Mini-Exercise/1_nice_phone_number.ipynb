{
 "cells": [
  {
   "cell_type": "markdown",
   "id": "6cc66cdb",
   "metadata": {},
   "source": [
    "# การหาเบอร์โทรศัพท์มงคล (ความหมายดี)"
   ]
  },
  {
   "cell_type": "raw",
   "id": "4dff114a",
   "metadata": {},
   "source": [
    "##### Author: Chansinee Mueangnu\n",
    "This code is just the code I used to practice my Python skills. There may be some code I learned from studying videos on the prasertcbs Youtube channel."
   ]
  },
  {
   "cell_type": "markdown",
   "id": "cdf1d700",
   "metadata": {},
   "source": [
    "วิธีเลือกเบอร์โทรศัพท์  (แบบง่ายๆ)\n",
    "   1. คำนวณผลรวมของเบอร์โทรทั้งหมดและดูความหมายตามหลักเลขศาสตร์ ให้ได้เลขผลรวมดีมากหรือดี เช่น 36, 41, 45, 50, 51, 54, 55, 56, 59, 63 และอื่นๆ\n",
    "   2. ควรใช้เลขถูกโฉลกให้มากที่สุด เช่น เกิดวันพฤหัส ควรให้มี 8 6 1 2 3 4   และ สามารถดูข้อมูลเพิ่มเติมได้ (เลื่อนลงด้านล่าง)"
   ]
  },
  {
   "cell_type": "markdown",
   "id": "4fb95835",
   "metadata": {},
   "source": [
    "เลขผลรวม สำหรับเบอร์โทรศัพท์\n",
    "- เลขผลรวมดีมาก ได้แก่ 9, 14, 15, 19, 23, 24, 32, 36, 40, 41, 42, 44, 45, 46, 50, 51, 54, 55, 56, 59, 63, 64, 65  ให้คุณระดับดีมาก\n",
    "                                           \n",
    "- 69, 79 โอกาสประสบผลสำเร็จสูง อุปสรรคน้อย เจริญรุ่งเรือง ร่ำรวย รวดเร็ว และมีความสุข\n",
    "\n",
    "- เลขผลรวมดีปานกลาง ได้แก่ 10, 13, 16, 18, 20, 22, 25, 26, 28, 31, 35, 38, 39, 47, 49, 52, 53, 57, 58, 60, 61  ให้คุณระดับดีปานกลาง\n",
    "\n",
    "- 62, 66, 68, 74, 75 เหนื่อย มีอุปสรรค แต่ยังมีโอกาสประสบผลสำเร็จ หากมีความพยายาม\n",
    "\n",
    "- เลขผลรวมไม่ดี ได้แก่ 11, 12, 17, 21, 27, 29, 30, 33, 34, 37, 43, 48, 67, 70, 71, 72, 73, 76, 77, 78, 80 (ให้โทษ ใครได้ผลรวมเหล่านี้ควรเปลี่ยน)\n",
    "                                           เหนื่อยมาก อุปสรรคมาก เจอปัญหารุมเร้า การงาน การเงิน ความรัก เกิดอุบัติเหตุชีวิตไม่จบไม่สิ้น"
   ]
  },
  {
   "cell_type": "markdown",
   "id": "7982677c",
   "metadata": {},
   "source": [
    "ที่มา: https://berdee.com/dooduangberdee.html"
   ]
  },
  {
   "cell_type": "code",
   "execution_count": 1,
   "id": "4a3e4f70",
   "metadata": {},
   "outputs": [],
   "source": [
    "def sum_phone_digit(phone_number):\n",
    "    total = 0\n",
    "    for c in phone_number: # \"0624713235\"\n",
    "        total += int(c)\n",
    "    return total\n",
    "\n",
    "def interpret(number):\n",
    "    meaning = \"\"\n",
    "    if number in (9, 14, 15, 19, 23, 24, 32, 36, \n",
    "                  40, 41, 42, 44, 45, 46, 50, 51, \n",
    "                  54, 55, 56, 59, 63, 64, 65):\n",
    "        meaning = \"ดีมาก\"\n",
    "        \n",
    "    elif number in (69, 79):\n",
    "        meaning = \"โอกาสประสบผลสำเร็จสูง อุปสรรคน้อย เจริญรุ่งเรือง ร่ำรวย รวดเร็ว และมีความสุข\"\n",
    "    \n",
    "    elif number in (10, 13, 16, 18, 20, 22, 25, \n",
    "                    26, 28, 31, 35, 38, 39, 47, \n",
    "                    49, 52, 53, 57, 58, 60, 61):\n",
    "        meaning = \"ดีปานกลาง\"\n",
    "    \n",
    "    elif number in (62, 66, 68, 74, 75):\n",
    "        meaning = \"เหนื่อย มีอุปสรรค แต่ยังมีโอกาสประสบผลสำเร็จ หากมีความพยายาม\"\n",
    "    \n",
    "    elif number in (11, 12, 17, 21, 27, 29, 30, \n",
    "                    33, 34, 37, 43, 48, 67, 70, \n",
    "                    71, 72, 73, 76, 77, 78, 80):\n",
    "        meaning = \"เหนื่อยมาก อุปสรรคมาก เจอปัญหารุมเร้า การงาน การเงิน ความรัก เกิดอุบัติเหตุชีวิตไม่จบไม่สิ้น\"\n",
    "    \n",
    "    return meaning"
   ]
  },
  {
   "cell_type": "code",
   "execution_count": 2,
   "id": "bdd274ef",
   "metadata": {},
   "outputs": [
    {
     "name": "stdout",
     "output_type": "stream",
     "text": [
      "33\n",
      "เหนื่อยมาก อุปสรรคมาก เจอปัญหารุมเร้า การงาน การเงิน ความรัก เกิดอุบัติเหตุชีวิตไม่จบไม่สิ้น\n"
     ]
    }
   ],
   "source": [
    "n = sum_phone_digit(\"0624713235\")\n",
    "print(n) # print(sum_phone_digit(\"0624713235\"))\n",
    "print(interpret(n))"
   ]
  },
  {
   "cell_type": "code",
   "execution_count": null,
   "id": "3148a56c",
   "metadata": {},
   "outputs": [],
   "source": [
    "phone = input(\"enter your phone number: \") # string\n",
    "print(interpret(sum_phone_digit(phone)))"
   ]
  },
  {
   "cell_type": "code",
   "execution_count": 3,
   "id": "8eab006f",
   "metadata": {},
   "outputs": [
    {
     "name": "stdout",
     "output_type": "stream",
     "text": [
      "enter your phone number: 0624713235\n",
      "เหนื่อยมาก อุปสรรคมาก เจอปัญหารุมเร้า การงาน การเงิน ความรัก เกิดอุบัติเหตุชีวิตไม่จบไม่สิ้น\n"
     ]
    }
   ],
   "source": [
    "phone = input(\"enter your phone number: \") # string\n",
    "print(interpret(sum_phone_digit(phone)))"
   ]
  }
 ],
 "metadata": {
  "kernelspec": {
   "display_name": "Python 3 (ipykernel)",
   "language": "python",
   "name": "python3"
  },
  "language_info": {
   "codemirror_mode": {
    "name": "ipython",
    "version": 3
   },
   "file_extension": ".py",
   "mimetype": "text/x-python",
   "name": "python",
   "nbconvert_exporter": "python",
   "pygments_lexer": "ipython3",
   "version": "3.10.4"
  }
 },
 "nbformat": 4,
 "nbformat_minor": 5
}
